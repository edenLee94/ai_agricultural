{
  "nbformat": 4,
  "nbformat_minor": 0,
  "metadata": {
    "colab": {
      "name": "cpu_time_AE.ipynb",
      "provenance": [],
      "collapsed_sections": []
    },
    "kernelspec": {
      "name": "python3",
      "display_name": "Python 3"
    },
    "language_info": {
      "name": "python"
    }
  },
  "cells": [
    {
      "cell_type": "code",
      "metadata": {
        "id": "P_xivVZ9OrSH"
      },
      "source": [
        "import numpy as np\n",
        "import pandas as pd\n",
        "from tensorflow import keras\n",
        "from tensorflow.keras import layers\n",
        "from matplotlib import pyplot as plt\n",
        "from datetime import datetime, timedelta"
      ],
      "execution_count": null,
      "outputs": []
    },
    {
      "cell_type": "code",
      "metadata": {
        "colab": {
          "base_uri": "https://localhost:8080/"
        },
        "id": "T--JyhSTFeTP",
        "outputId": "d5a9b8b4-99ec-4ed0-e49a-d06b9fb99fd4"
      },
      "source": [
        "from google.colab import drive\n",
        "drive.mount('/content/drive')"
      ],
      "execution_count": null,
      "outputs": [
        {
          "output_type": "stream",
          "name": "stdout",
          "text": [
            "Mounted at /content/drive\n"
          ]
        }
      ]
    },
    {
      "cell_type": "code",
      "source": [
        "cpu_load_df"
      ],
      "metadata": {
        "colab": {
          "base_uri": "https://localhost:8080/",
          "height": 455
        },
        "id": "XYux8ZZVZ-qN",
        "outputId": "1440fe52-ce2a-4873-c35b-243b55c980de"
      },
      "execution_count": null,
      "outputs": [
        {
          "output_type": "execute_result",
          "data": {
            "text/plain": [
              "                         value\n",
              "timestamp                     \n",
              "2014-04-01 00:00:00  19.761252\n",
              "2014-04-01 00:05:00  20.500833\n",
              "2014-04-01 00:10:00  19.961641\n",
              "2014-04-01 00:15:00  21.490266\n",
              "2014-04-01 00:20:00  20.187739\n",
              "...                        ...\n",
              "2014-04-14 23:35:00  18.074649\n",
              "2014-04-14 23:40:00  21.002014\n",
              "2014-04-14 23:45:00  20.566713\n",
              "2014-04-14 23:50:00  18.254193\n",
              "2014-04-14 23:55:00  21.863147\n",
              "\n",
              "[4032 rows x 1 columns]"
            ],
            "text/html": [
              "\n",
              "  <div id=\"df-867b84dd-697a-4138-8d29-35b918002270\">\n",
              "    <div class=\"colab-df-container\">\n",
              "      <div>\n",
              "<style scoped>\n",
              "    .dataframe tbody tr th:only-of-type {\n",
              "        vertical-align: middle;\n",
              "    }\n",
              "\n",
              "    .dataframe tbody tr th {\n",
              "        vertical-align: top;\n",
              "    }\n",
              "\n",
              "    .dataframe thead th {\n",
              "        text-align: right;\n",
              "    }\n",
              "</style>\n",
              "<table border=\"1\" class=\"dataframe\">\n",
              "  <thead>\n",
              "    <tr style=\"text-align: right;\">\n",
              "      <th></th>\n",
              "      <th>value</th>\n",
              "    </tr>\n",
              "    <tr>\n",
              "      <th>timestamp</th>\n",
              "      <th></th>\n",
              "    </tr>\n",
              "  </thead>\n",
              "  <tbody>\n",
              "    <tr>\n",
              "      <th>2014-04-01 00:00:00</th>\n",
              "      <td>19.761252</td>\n",
              "    </tr>\n",
              "    <tr>\n",
              "      <th>2014-04-01 00:05:00</th>\n",
              "      <td>20.500833</td>\n",
              "    </tr>\n",
              "    <tr>\n",
              "      <th>2014-04-01 00:10:00</th>\n",
              "      <td>19.961641</td>\n",
              "    </tr>\n",
              "    <tr>\n",
              "      <th>2014-04-01 00:15:00</th>\n",
              "      <td>21.490266</td>\n",
              "    </tr>\n",
              "    <tr>\n",
              "      <th>2014-04-01 00:20:00</th>\n",
              "      <td>20.187739</td>\n",
              "    </tr>\n",
              "    <tr>\n",
              "      <th>...</th>\n",
              "      <td>...</td>\n",
              "    </tr>\n",
              "    <tr>\n",
              "      <th>2014-04-14 23:35:00</th>\n",
              "      <td>18.074649</td>\n",
              "    </tr>\n",
              "    <tr>\n",
              "      <th>2014-04-14 23:40:00</th>\n",
              "      <td>21.002014</td>\n",
              "    </tr>\n",
              "    <tr>\n",
              "      <th>2014-04-14 23:45:00</th>\n",
              "      <td>20.566713</td>\n",
              "    </tr>\n",
              "    <tr>\n",
              "      <th>2014-04-14 23:50:00</th>\n",
              "      <td>18.254193</td>\n",
              "    </tr>\n",
              "    <tr>\n",
              "      <th>2014-04-14 23:55:00</th>\n",
              "      <td>21.863147</td>\n",
              "    </tr>\n",
              "  </tbody>\n",
              "</table>\n",
              "<p>4032 rows × 1 columns</p>\n",
              "</div>\n",
              "      <button class=\"colab-df-convert\" onclick=\"convertToInteractive('df-867b84dd-697a-4138-8d29-35b918002270')\"\n",
              "              title=\"Convert this dataframe to an interactive table.\"\n",
              "              style=\"display:none;\">\n",
              "        \n",
              "  <svg xmlns=\"http://www.w3.org/2000/svg\" height=\"24px\"viewBox=\"0 0 24 24\"\n",
              "       width=\"24px\">\n",
              "    <path d=\"M0 0h24v24H0V0z\" fill=\"none\"/>\n",
              "    <path d=\"M18.56 5.44l.94 2.06.94-2.06 2.06-.94-2.06-.94-.94-2.06-.94 2.06-2.06.94zm-11 1L8.5 8.5l.94-2.06 2.06-.94-2.06-.94L8.5 2.5l-.94 2.06-2.06.94zm10 10l.94 2.06.94-2.06 2.06-.94-2.06-.94-.94-2.06-.94 2.06-2.06.94z\"/><path d=\"M17.41 7.96l-1.37-1.37c-.4-.4-.92-.59-1.43-.59-.52 0-1.04.2-1.43.59L10.3 9.45l-7.72 7.72c-.78.78-.78 2.05 0 2.83L4 21.41c.39.39.9.59 1.41.59.51 0 1.02-.2 1.41-.59l7.78-7.78 2.81-2.81c.8-.78.8-2.07 0-2.86zM5.41 20L4 18.59l7.72-7.72 1.47 1.35L5.41 20z\"/>\n",
              "  </svg>\n",
              "      </button>\n",
              "      \n",
              "  <style>\n",
              "    .colab-df-container {\n",
              "      display:flex;\n",
              "      flex-wrap:wrap;\n",
              "      gap: 12px;\n",
              "    }\n",
              "\n",
              "    .colab-df-convert {\n",
              "      background-color: #E8F0FE;\n",
              "      border: none;\n",
              "      border-radius: 50%;\n",
              "      cursor: pointer;\n",
              "      display: none;\n",
              "      fill: #1967D2;\n",
              "      height: 32px;\n",
              "      padding: 0 0 0 0;\n",
              "      width: 32px;\n",
              "    }\n",
              "\n",
              "    .colab-df-convert:hover {\n",
              "      background-color: #E2EBFA;\n",
              "      box-shadow: 0px 1px 2px rgba(60, 64, 67, 0.3), 0px 1px 3px 1px rgba(60, 64, 67, 0.15);\n",
              "      fill: #174EA6;\n",
              "    }\n",
              "\n",
              "    [theme=dark] .colab-df-convert {\n",
              "      background-color: #3B4455;\n",
              "      fill: #D2E3FC;\n",
              "    }\n",
              "\n",
              "    [theme=dark] .colab-df-convert:hover {\n",
              "      background-color: #434B5C;\n",
              "      box-shadow: 0px 1px 3px 1px rgba(0, 0, 0, 0.15);\n",
              "      filter: drop-shadow(0px 1px 2px rgba(0, 0, 0, 0.3));\n",
              "      fill: #FFFFFF;\n",
              "    }\n",
              "  </style>\n",
              "\n",
              "      <script>\n",
              "        const buttonEl =\n",
              "          document.querySelector('#df-867b84dd-697a-4138-8d29-35b918002270 button.colab-df-convert');\n",
              "        buttonEl.style.display =\n",
              "          google.colab.kernel.accessAllowed ? 'block' : 'none';\n",
              "\n",
              "        async function convertToInteractive(key) {\n",
              "          const element = document.querySelector('#df-867b84dd-697a-4138-8d29-35b918002270');\n",
              "          const dataTable =\n",
              "            await google.colab.kernel.invokeFunction('convertToInteractive',\n",
              "                                                     [key], {});\n",
              "          if (!dataTable) return;\n",
              "\n",
              "          const docLinkHtml = 'Like what you see? Visit the ' +\n",
              "            '<a target=\"_blank\" href=https://colab.research.google.com/notebooks/data_table.ipynb>data table notebook</a>'\n",
              "            + ' to learn more about interactive tables.';\n",
              "          element.innerHTML = '';\n",
              "          dataTable['output_type'] = 'display_data';\n",
              "          await google.colab.output.renderOutput(dataTable, element);\n",
              "          const docLink = document.createElement('div');\n",
              "          docLink.innerHTML = docLinkHtml;\n",
              "          element.appendChild(docLink);\n",
              "        }\n",
              "      </script>\n",
              "    </div>\n",
              "  </div>\n",
              "  "
            ]
          },
          "metadata": {},
          "execution_count": 4
        }
      ]
    },
    {
      "cell_type": "code",
      "metadata": {
        "colab": {
          "base_uri": "https://localhost:8080/",
          "height": 321
        },
        "id": "3sExRae2F9bj",
        "outputId": "229b7ef7-ab1c-45bc-e1e7-27996ad19d8d"
      },
      "source": [
        "cpu_load_df.plot()"
      ],
      "execution_count": null,
      "outputs": [
        {
          "output_type": "execute_result",
          "data": {
            "text/plain": [
              "<matplotlib.axes._subplots.AxesSubplot at 0x7f4400b67110>"
            ]
          },
          "metadata": {},
          "execution_count": 5
        },
        {
          "output_type": "display_data",
          "data": {
            "text/plain": [
              "<Figure size 432x288 with 1 Axes>"
            ],
            "image/png": "[encoded data removed]"
          },
          "metadata": {
            "needs_background": "light"
          }
        }
      ]
    },
    {
      "cell_type": "markdown",
      "source": [
        "정상 데이터만 넣어서 AE에 학습시키고, 비정상데이터를 넣어서? -> for what?"
      ],
      "metadata": {
        "id": "alVYDkNmDK7N"
      }
    },
    {
      "cell_type": "markdown",
      "source": [
        "## 1. 정상 데이터를 구할 수 있는 경우\n",
        "  1.1 말그대로 정상 샘플만 있는거\n",
        "  \n",
        "  1.2 이상치가 포함된 데이터에서 알고 있던 이상치 (Known Anomaly)를 제거"
      ],
      "metadata": {
        "id": "Ce8Bo5wzaa0W"
      }
    },
    {
      "cell_type": "code",
      "metadata": {
        "id": "A1pXHiqJGdEO"
      },
      "source": [
        "cpu_load_normal_df = pd.read_csv(\n",
        "    \"/content/drive/MyDrive/시계열_교안/5주차/cpu_load_normal.csv\",\n",
        "    parse_dates=True, # 팬더가 자동으로 날짜를 인식 -> parse_data = True or parse_dates=['column name']이렇게 설정\n",
        "    index_col='timestamp'\n",
        "    )"
      ],
      "execution_count": null,
      "outputs": []
    },
    {
      "cell_type": "code",
      "metadata": {
        "colab": {
          "base_uri": "https://localhost:8080/",
          "height": 321
        },
        "id": "wCdipNLgGkZ6",
        "outputId": "ce8c8f93-eedc-4cfc-935f-ec966befec9e"
      },
      "source": [
        "cpu_load_normal_df.plot()"
      ],
      "execution_count": null,
      "outputs": [
        {
          "output_type": "execute_result",
          "data": {
            "text/plain": [
              "<matplotlib.axes._subplots.AxesSubplot at 0x7f4400556dd0>"
            ]
          },
          "metadata": {},
          "execution_count": 7
        },
        {
          "output_type": "display_data",
          "data": {
            "text/plain": [
              "<Figure size 432x288 with 1 Axes>"
            ],
            "image/png": "[encoded data removed]"
          },
          "metadata": {
            "needs_background": "light"
          }
        }
      ]
    },
    {
      "cell_type": "markdown",
      "source": [
        "## 데이터 전처리"
      ],
      "metadata": {
        "id": "xxZZ2Bhia40R"
      }
    },
    {
      "cell_type": "markdown",
      "source": [
        "이상치값이 있는 데이터 사용"
      ],
      "metadata": {
        "id": "_gTBgnimJHQ4"
      }
    },
    {
      "cell_type": "code",
      "metadata": {
        "id": "skuCwAjsdRGA"
      },
      "source": [
        "training_mean = cpu_load_df.mean()\n",
        "training_std = cpu_load_df.std()\n",
        "df_training_value = (cpu_load_df - training_mean) / training_std # z-score 정규화"
      ],
      "execution_count": null,
      "outputs": []
    },
    {
      "cell_type": "markdown",
      "source": [
        "이상치가 없는 데이터(cpu_load_normal_df)를 이용"
      ],
      "metadata": {
        "id": "Y91motqSJDF0"
      }
    },
    {
      "cell_type": "code",
      "source": [
        "training_mean = cpu_load_normal_df.mean()\n",
        "training_std = cpu_load_normal_df.std()\n",
        "df_training_value = (cpu_load_normal_df - training_mean) / training_std # z-score 정규화"
      ],
      "metadata": {
        "id": "PfM5r1A-I8Sy"
      },
      "execution_count": null,
      "outputs": []
    },
    {
      "cell_type": "markdown",
      "source": [
        "z_score normalizaion : https://mole-starseeker.tistory.com/31"
      ],
      "metadata": {
        "id": "Er2ZHvEWD6g6"
      }
    },
    {
      "cell_type": "markdown",
      "source": [
        "## Blocked CV 형식으로 데이터 분할"
      ],
      "metadata": {
        "id": "ovKW8kaSa9jm"
      }
    },
    {
      "cell_type": "code",
      "metadata": {
        "colab": {
          "base_uri": "https://localhost:8080/"
        },
        "id": "uNc8CXaadZc5",
        "outputId": "f54f8572-0761-46c4-ebe8-1dd715ea9141"
      },
      "source": [
        "# Blocked Crossvalidation\n",
        "TIME_STEPS = 288 # 1440분 => 하루\n",
        "\n",
        "# Generated training sequences for use in the model.\n",
        "def create_sequences(values, time_steps=TIME_STEPS):\n",
        "    output = []\n",
        "    for i in range(len(values) - time_steps):\n",
        "        output.append(values[i : (i + time_steps)])\n",
        "    return np.stack(output)\n",
        "\n",
        "# AutoEncoder, x=y\n",
        "x_train = create_sequences(df_training_value.values)\n",
        "x_train = x_train.reshape(x_train.shape[0], x_train.shape[1], 1)\n",
        "print(\"Training input shape: \", x_train.shape)"
      ],
      "execution_count": null,
      "outputs": [
        {
          "output_type": "stream",
          "name": "stdout",
          "text": [
            "Training input shape:  (3744, 288, 1)\n"
          ]
        }
      ]
    },
    {
      "cell_type": "code",
      "metadata": {
        "colab": {
          "base_uri": "https://localhost:8080/"
        },
        "id": "pGMUokfsHhyu",
        "outputId": "93cab706-f877-4c4b-aa17-7d2708a06ae3"
      },
      "source": [
        "df_training_value.shape"
      ],
      "execution_count": null,
      "outputs": [
        {
          "output_type": "execute_result",
          "data": {
            "text/plain": [
              "(4032, 1)"
            ]
          },
          "metadata": {},
          "execution_count": 21
        }
      ]
    },
    {
      "cell_type": "code",
      "metadata": {
        "colab": {
          "base_uri": "https://localhost:8080/"
        },
        "id": "W8C68FohHeaL",
        "outputId": "27320d85-de29-4ea1-cab9-75ac1ff432ac"
      },
      "source": [
        "x_train.shape # (배치,데이터,?)"
      ],
      "execution_count": null,
      "outputs": [
        {
          "output_type": "execute_result",
          "data": {
            "text/plain": [
              "(3744, 288, 1)"
            ]
          },
          "metadata": {},
          "execution_count": 22
        }
      ]
    },
    {
      "cell_type": "code",
      "metadata": {
        "colab": {
          "base_uri": "https://localhost:8080/"
        },
        "id": "Q9XeolCidwyV",
        "outputId": "ad2835c8-e208-4d16-dfdb-edeb1409a5e8"
      },
      "source": [
        "# CNN 기반 모델 -> why use CNN -> 구간 반복이 존재한다. 선/후 관계가 중요한게 아니여서 -> 그래서 LSTM을 안쓰고 CNN을 사용한다\n",
        "model = keras.Sequential(\n",
        "    [                         # 288,                1\n",
        "        layers.Input(shape=(x_train.shape[1], x_train.shape[2])), # 288, 1\n",
        "        # 요약한 정보를 32차원으로 바꾸고, 7개의 window를 보고, 2개 중에서 pooling을 하겠다.\n",
        "        layers.Conv1D(\n",
        "            filters=32, kernel_size=7, padding=\"same\", strides=2, activation=\"relu\" # 144, 32\n",
        "        ),\n",
        "        layers.Dropout(rate=0.2),\n",
        "        # 요약한 정보를 16차원으로 바꾸고, 7개의 window를 보고, 2개 중에서 pooling을 하겠다\n",
        "        layers.Conv1D(\n",
        "            filters=16, kernel_size=7, padding=\"same\", strides=2, activation=\"relu\" # 72, 16 -> CNN 코드를 쓸 때 이렇게 적어주는게 좋을거 같다\n",
        "        ),\n",
        "        layers.Conv1D(\n",
        "            filters=8, kernel_size=7, padding=\"same\", strides=2, activation=\"relu\" # 36, 8\n",
        "        ),\n",
        "        layers.Conv1D(\n",
        "              filters=4, kernel_size=7, padding=\"same\", strides=2, activation=\"relu\" # 18차원, 4 <= z vector / Encoder 끝.\n",
        "          ),\n",
        "        # Decoder 시작 -> up sampling\n",
        "        layers.Conv1DTranspose(\n",
        "            filters=8, kernel_size=7, padding=\"same\", strides=2, activation=\"relu\" # 36, 8\n",
        "        ),\n",
        "        layers.Conv1DTranspose(\n",
        "            filters=16, kernel_size=7, padding=\"same\", strides=2, activation=\"relu\" # 72, 16\n",
        "        ),\n",
        "        layers.Dropout(rate=0.2),\n",
        "        # 32차원으로 7개의 윈도우를 봐서, stride=2이므로, 시계열이 2배로 확장.\n",
        "        layers.Conv1DTranspose(\n",
        "            filters=32, kernel_size=7, padding=\"same\", strides=2, activation=\"relu\" # 144, 32\n",
        "        ),\n",
        "          layers.Conv1DTranspose(\n",
        "            filters=32, kernel_size=7, padding=\"same\", strides=2, activation=\"relu\" # 288, 32\n",
        "        ),\n",
        "        layers.Conv1DTranspose(filters=1, kernel_size=7, padding=\"same\"), # 288, 1, 원본 시계열 - 입력과 똑같은 shape\n",
        "    ]\n",
        ")\n",
        "model.compile(optimizer=keras.optimizers.Adam(learning_rate=0.001), loss=\"mse\")\n",
        "model.summary()"
      ],
      "execution_count": null,
      "outputs": [
        {
          "output_type": "stream",
          "name": "stdout",
          "text": [
            "Model: \"sequential_1\"\n",
            "_________________________________________________________________\n",
            " Layer (type)                Output Shape              Param #   \n",
            "=================================================================\n",
            " conv1d_4 (Conv1D)           (None, 144, 32)           256       \n",
            "                                                                 \n",
            " dropout_2 (Dropout)         (None, 144, 32)           0         \n",
            "                                                                 \n",
            " conv1d_5 (Conv1D)           (None, 72, 16)            3600      \n",
            "                                                                 \n",
            " conv1d_6 (Conv1D)           (None, 36, 8)             904       \n",
            "                                                                 \n",
            " conv1d_7 (Conv1D)           (None, 18, 4)             228       \n",
            "                                                                 \n",
            " conv1d_transpose_5 (Conv1DT  (None, 36, 8)            232       \n",
            " ranspose)                                                       \n",
            "                                                                 \n",
            " conv1d_transpose_6 (Conv1DT  (None, 72, 16)           912       \n",
            " ranspose)                                                       \n",
            "                                                                 \n",
            " dropout_3 (Dropout)         (None, 72, 16)            0         \n",
            "                                                                 \n",
            " conv1d_transpose_7 (Conv1DT  (None, 144, 32)          3616      \n",
            " ranspose)                                                       \n",
            "                                                                 \n",
            " conv1d_transpose_8 (Conv1DT  (None, 288, 32)          7200      \n",
            " ranspose)                                                       \n",
            "                                                                 \n",
            " conv1d_transpose_9 (Conv1DT  (None, 288, 1)           225       \n",
            " ranspose)                                                       \n",
            "                                                                 \n",
            "=================================================================\n",
            "Total params: 17,173\n",
            "Trainable params: 17,173\n",
            "Non-trainable params: 0\n",
            "_________________________________________________________________\n"
          ]
        }
      ]
    },
    {
      "cell_type": "code",
      "metadata": {
        "colab": {
          "base_uri": "https://localhost:8080/"
        },
        "id": "XtXEI4dteXdT",
        "outputId": "00b87c0a-2934-4046-c2e5-f540fa17f836"
      },
      "source": [
        "history = model.fit(\n",
        "    x_train,\n",
        "    x_train, # 원래 y값 자리지만, AE에 대한 구조를 이해하면 x_train이 맞는 값으로 들어온거다\n",
        "    epochs=50,\n",
        "    batch_size=128\n",
        ")"
      ],
      "execution_count": null,
      "outputs": [
        {
          "output_type": "stream",
          "name": "stdout",
          "text": [
            "Epoch 1/50\n",
            "30/30 [==============================] - 4s 105ms/step - loss: 0.6802\n",
            "Epoch 2/50\n",
            "30/30 [==============================] - 3s 104ms/step - loss: 0.3822\n",
            "Epoch 3/50\n",
            "30/30 [==============================] - 3s 105ms/step - loss: 0.2425\n",
            "Epoch 4/50\n",
            "30/30 [==============================] - 3s 106ms/step - loss: 0.0943\n",
            "Epoch 5/50\n",
            "30/30 [==============================] - 3s 106ms/step - loss: 0.0607\n",
            "Epoch 6/50\n",
            "30/30 [==============================] - 3s 107ms/step - loss: 0.0523\n",
            "Epoch 7/50\n",
            "30/30 [==============================] - 3s 107ms/step - loss: 0.0469\n",
            "Epoch 8/50\n",
            "30/30 [==============================] - 3s 107ms/step - loss: 0.0433\n",
            "Epoch 9/50\n",
            "30/30 [==============================] - 3s 109ms/step - loss: 0.0403\n",
            "Epoch 10/50\n",
            "30/30 [==============================] - 3s 107ms/step - loss: 0.0372\n",
            "Epoch 11/50\n",
            "30/30 [==============================] - 3s 104ms/step - loss: 0.0351\n",
            "Epoch 12/50\n",
            "30/30 [==============================] - 3s 105ms/step - loss: 0.0329\n",
            "Epoch 13/50\n",
            "30/30 [==============================] - 3s 103ms/step - loss: 0.0311\n",
            "Epoch 14/50\n",
            "30/30 [==============================] - 3s 103ms/step - loss: 0.0295\n",
            "Epoch 15/50\n",
            "30/30 [==============================] - 3s 103ms/step - loss: 0.0282\n",
            "Epoch 16/50\n",
            "30/30 [==============================] - 3s 105ms/step - loss: 0.0272\n",
            "Epoch 17/50\n",
            "30/30 [==============================] - 3s 107ms/step - loss: 0.0261\n",
            "Epoch 18/50\n",
            "30/30 [==============================] - 3s 107ms/step - loss: 0.0253\n",
            "Epoch 19/50\n",
            "30/30 [==============================] - 3s 109ms/step - loss: 0.0247\n",
            "Epoch 20/50\n",
            "30/30 [==============================] - 3s 104ms/step - loss: 0.0241\n",
            "Epoch 21/50\n",
            "30/30 [==============================] - 3s 105ms/step - loss: 0.0235\n",
            "Epoch 22/50\n",
            "30/30 [==============================] - 3s 105ms/step - loss: 0.0230\n",
            "Epoch 23/50\n",
            "30/30 [==============================] - 3s 103ms/step - loss: 0.0225\n",
            "Epoch 24/50\n",
            "30/30 [==============================] - 5s 166ms/step - loss: 0.0222\n",
            "Epoch 25/50\n",
            "30/30 [==============================] - 3s 105ms/step - loss: 0.0219\n",
            "Epoch 26/50\n",
            "30/30 [==============================] - 4s 138ms/step - loss: 0.0213\n",
            "Epoch 27/50\n",
            "30/30 [==============================] - 3s 106ms/step - loss: 0.0211\n",
            "Epoch 28/50\n",
            "30/30 [==============================] - 3s 107ms/step - loss: 0.0207\n",
            "Epoch 29/50\n",
            "30/30 [==============================] - 3s 104ms/step - loss: 0.0206\n",
            "Epoch 30/50\n",
            "30/30 [==============================] - 3s 104ms/step - loss: 0.0202\n",
            "Epoch 31/50\n",
            "30/30 [==============================] - 3s 104ms/step - loss: 0.0201\n",
            "Epoch 32/50\n",
            "30/30 [==============================] - 3s 105ms/step - loss: 0.0200\n",
            "Epoch 33/50\n",
            "30/30 [==============================] - 3s 106ms/step - loss: 0.0195\n",
            "Epoch 34/50\n",
            "30/30 [==============================] - 3s 108ms/step - loss: 0.0194\n",
            "Epoch 35/50\n",
            "30/30 [==============================] - 3s 107ms/step - loss: 0.0190\n",
            "Epoch 36/50\n",
            "30/30 [==============================] - 3s 106ms/step - loss: 0.0189\n",
            "Epoch 37/50\n",
            "30/30 [==============================] - 3s 107ms/step - loss: 0.0187\n",
            "Epoch 38/50\n",
            "30/30 [==============================] - 3s 108ms/step - loss: 0.0187\n",
            "Epoch 39/50\n",
            "30/30 [==============================] - 3s 107ms/step - loss: 0.0187\n",
            "Epoch 40/50\n",
            "30/30 [==============================] - 3s 107ms/step - loss: 0.0183\n",
            "Epoch 41/50\n",
            "30/30 [==============================] - 3s 107ms/step - loss: 0.0182\n",
            "Epoch 42/50\n",
            "30/30 [==============================] - 3s 106ms/step - loss: 0.0182\n",
            "Epoch 43/50\n",
            "30/30 [==============================] - 3s 107ms/step - loss: 0.0183\n",
            "Epoch 44/50\n",
            "30/30 [==============================] - 3s 106ms/step - loss: 0.0179\n",
            "Epoch 45/50\n",
            "30/30 [==============================] - 3s 105ms/step - loss: 0.0176\n",
            "Epoch 46/50\n",
            "30/30 [==============================] - 3s 107ms/step - loss: 0.0177\n",
            "Epoch 47/50\n",
            "30/30 [==============================] - 3s 108ms/step - loss: 0.0175\n",
            "Epoch 48/50\n",
            "30/30 [==============================] - 3s 106ms/step - loss: 0.0172\n",
            "Epoch 49/50\n",
            "30/30 [==============================] - 3s 106ms/step - loss: 0.0173\n",
            "Epoch 50/50\n",
            "30/30 [==============================] - 3s 105ms/step - loss: 0.0170\n"
          ]
        }
      ]
    },
    {
      "cell_type": "code",
      "metadata": {
        "id": "l4wa9KHeKc7z"
      },
      "source": [
        "x_train_pred = model.predict(x_train)"
      ],
      "execution_count": null,
      "outputs": []
    },
    {
      "cell_type": "code",
      "metadata": {
        "colab": {
          "base_uri": "https://localhost:8080/"
        },
        "id": "H6E4vDqGLJog",
        "outputId": "171594a2-d86b-46f0-a4d3-f72b02a9a57b"
      },
      "source": [
        "x_train_pred.shape"
      ],
      "execution_count": null,
      "outputs": [
        {
          "output_type": "execute_result",
          "data": {
            "text/plain": [
              "(3744, 288, 1)"
            ]
          },
          "metadata": {},
          "execution_count": 26
        }
      ]
    },
    {
      "cell_type": "markdown",
      "source": [
        "## 학습 데이터를 그대로 복원  => 복원된 데이터와 학습 데이터를 비교"
      ],
      "metadata": {
        "id": "MIIL8oQ7dlCO"
      }
    },
    {
      "cell_type": "markdown",
      "source": [
        "## 이상치 포함"
      ],
      "metadata": {
        "id": "6oTr2DUD9wSl"
      }
    },
    {
      "cell_type": "code",
      "metadata": {
        "colab": {
          "base_uri": "https://localhost:8080/",
          "height": 299
        },
        "id": "OzqNgRiverCF",
        "outputId": "6cb45a67-14a6-48b4-af6f-4ebd906925b8"
      },
      "source": [
        "x_train_pred = model.predict(x_train)\n",
        "                          # 예측값 각각에 대한 mean absoulte err\n",
        "train_mae_loss = np.mean(np.abs(x_train_pred - x_train), axis=1) # loss를 구한다.\n",
        "\n",
        "plt.hist(train_mae_loss, bins=50)\n",
        "plt.xlabel(\"Train MAE loss\")\n",
        "plt.ylabel(\"No of samples\")\n",
        "plt.show() # loss 분포를 구한다 - 시각적 표현\n",
        "\n",
        "# Get reconstruction loss threshold.\n",
        "# threshold = np.max(train_mae_loss) * 1 # 학습 데이터의 최대 에러의 95% 수준보다 넘어가는건 이상치다.\n",
        "threshold = np.max(train_mae_loss) * 1.2 # 0.9로 값을 바꾸면,threshold값이 떨어진다 => 이유는 무엇일까? -> 근데 오류가 뜬다. why? threshold값이 너무 작아서? 그래서 threshold = 0.15로 바꾸니까 코드가 됨 ..\n",
        "print(\"Reconstruction error threshold: \", threshold)"
      ],
      "execution_count": null,
      "outputs": [
        {
          "output_type": "display_data",
          "data": {
            "text/plain": [
              "<Figure size 432x288 with 1 Axes>"
            ],
            "image/png": "[encoded data removed]"
          },
          "metadata": {
            "needs_background": "light"
          }
        },
        {
          "output_type": "stream",
          "name": "stdout",
          "text": [
            "Reconstruction error threshold:  0.36180702939322795\n"
          ]
        }
      ]
    },
    {
      "cell_type": "markdown",
      "source": [
        "0.25~0.30 그래프에서 값이 튀어나와있는 것을 보면 이상치가 포함되어있는 데이터이기 때문에 포함이 된 것으로 판단할 수 있다.\n",
        "\n",
        "-> 그래프가 살짝 좌측에 치우친 보아뱀?형태 그래프로 나타낸다면, 우측부분에서 이상치가 발견된 것을 알 수 있다."
      ],
      "metadata": {
        "id": "GrxD25bFGrXO"
      }
    },
    {
      "cell_type": "markdown",
      "source": [
        "## 이상치 포함 X"
      ],
      "metadata": {
        "id": "RoY4QahB9szc"
      }
    },
    {
      "cell_type": "code",
      "metadata": {
        "colab": {
          "base_uri": "https://localhost:8080/",
          "height": 265
        },
        "id": "TUVVYmYIf0ZJ",
        "outputId": "cf925ef9-014f-4200-ebc6-9398b4d49ed2"
      },
      "source": [
        "# Checking how the first sequence is learnt\n",
        "plt.plot(x_train[0])\n",
        "plt.plot(x_train_pred[0])\n",
        "plt.show()"
      ],
      "execution_count": null,
      "outputs": [
        {
          "output_type": "display_data",
          "data": {
            "text/plain": [
              "<Figure size 432x288 with 1 Axes>"
            ],
            "image/png": "[encoded data removed]"
          },
          "metadata": {
            "needs_background": "light"
          }
        }
      ]
    },
    {
      "cell_type": "code",
      "metadata": {
        "id": "Jl1vBLeELte_"
      },
      "source": [
        "df_test_value = (cpu_load_df - training_mean) / training_std"
      ],
      "execution_count": null,
      "outputs": []
    },
    {
      "cell_type": "code",
      "metadata": {
        "colab": {
          "base_uri": "https://localhost:8080/",
          "height": 1000
        },
        "id": "BU4Ll-vHf39Q",
        "outputId": "aa685452-e982-4ae9-dbc4-bdb79ad582b5"
      },
      "source": [
        "df_test_value = (cpu_load_df - training_mean) / training_std\n",
        "\n",
        "fig, ax = plt.subplots()\n",
        "df_test_value.plot(legend=False, ax=ax)\n",
        "plt.show()\n",
        "\n",
        "# Create sequences from test values.\n",
        "x_test = create_sequences(df_test_value.values)\n",
        "x_test = x_test.reshape(x_test.shape[0], x_test.shape[1], 1)\n",
        "print(\"Test input shape: \", x_test.shape)\n",
        "\n",
        "# Get test MAE loss.\n",
        "x_test_pred = model.predict(x_test)\n",
        "test_mae_loss = np.mean(np.abs(x_test_pred - x_test), axis=1)\n",
        "test_mae_loss = test_mae_loss.reshape((-1))\n",
        "\n",
        "plt.hist(test_mae_loss, bins=50)\n",
        "plt.xlabel(\"test MAE loss\")\n",
        "plt.ylabel(\"No of samples\")\n",
        "plt.show()\n",
        "\n",
        "# Detect all the samples which are anomalies.\n",
        "anomalies = test_mae_loss > threshold # 학습 데이터의 최대 로스보다 큰 로스 값 index\n",
        "print(\"Number of anomaly samples: \", np.sum(anomalies))\n",
        "print(\"Indices of anomaly samples: \", np.where(anomalies))"
      ],
      "execution_count": null,
      "outputs": [
        {
          "output_type": "display_data",
          "data": {
            "text/plain": [
              "<Figure size 432x288 with 1 Axes>"
            ],
            "image/png": "[encoded data removed]"
          },
          "metadata": {
            "needs_background": "light"
          }
        },
        {
          "output_type": "stream",
          "name": "stdout",
          "text": [
            "Test input shape:  (3744, 288, 1)\n"
          ]
        },
        {
          "output_type": "display_data",
          "data": {
            "text/plain": [
              "<Figure size 432x288 with 1 Axes>"
            ],
            "image/png": "[encoded data removed]"
          },
          "metadata": {
            "needs_background": "light"
          }
        },
        {
          "output_type": "stream",
          "name": "stdout",
          "text": [
            "Number of anomaly samples:  391\n",
            "Indices of anomaly samples:  (array([2704, 2705, 2706, 2707, 2708, 2709, 2710, 2711, 2712, 2713, 2714,\n",
            "       2715, 2716, 2717, 2718, 2719, 2720, 2721, 2722, 2723, 2724, 2725,\n",
            "       2726, 2727, 2728, 2729, 2730, 2731, 2732, 2733, 2734, 2735, 2736,\n",
            "       2737, 2738, 2739, 2740, 2741, 2742, 2743, 2744, 2745, 2746, 2747,\n",
            "       2748, 2749, 2750, 2751, 2752, 2753, 2754, 2755, 2756, 2757, 2758,\n",
            "       2759, 2760, 2761, 2762, 2763, 2764, 2765, 2766, 2767, 2768, 2769,\n",
            "       2770, 2771, 2772, 2773, 2774, 2775, 2776, 2777, 2778, 2779, 2780,\n",
            "       2781, 2782, 2783, 2784, 2785, 2786, 2787, 2788, 2789, 2790, 2791,\n",
            "       2792, 2793, 2794, 2795, 2796, 2797, 2798, 2799, 2800, 2801, 2802,\n",
            "       2803, 2804, 2805, 2806, 2807, 2808, 2809, 2810, 2811, 2812, 2813,\n",
            "       2814, 2815, 2816, 2817, 2818, 2819, 2820, 2821, 2822, 2823, 2824,\n",
            "       2825, 2826, 2827, 2828, 2829, 2830, 2831, 2832, 2833, 2834, 2835,\n",
            "       2836, 2837, 2838, 2839, 2840, 2841, 2842, 2843, 2844, 2845, 2846,\n",
            "       2847, 2848, 2849, 2850, 2851, 2852, 2853, 2854, 2855, 2856, 2857,\n",
            "       2858, 2859, 2860, 2861, 2862, 2863, 2864, 2865, 2866, 2867, 2868,\n",
            "       2869, 2870, 2871, 2872, 2873, 2874, 2875, 2876, 2877, 2878, 2879,\n",
            "       2880, 2881, 2882, 2883, 2884, 2885, 2886, 2887, 2888, 2889, 2890,\n",
            "       2891, 2892, 2893, 2894, 2895, 2896, 2897, 2898, 2899, 2900, 2901,\n",
            "       2902, 2903, 2904, 2905, 2906, 2907, 2908, 2909, 2910, 2911, 2912,\n",
            "       2913, 2914, 2915, 2916, 2917, 2918, 2919, 2920, 2921, 2922, 2923,\n",
            "       2924, 2925, 2926, 2927, 2928, 2929, 2930, 2931, 2932, 2933, 2934,\n",
            "       2935, 2936, 2937, 2938, 2939, 2940, 2941, 2942, 2943, 2944, 2945,\n",
            "       2946, 2947, 2948, 2949, 2950, 2951, 2952, 2953, 2954, 2955, 2956,\n",
            "       2957, 2958, 2959, 2960, 2961, 2962, 2963, 2964, 2965, 2966, 2967,\n",
            "       2968, 2969, 2970, 2971, 2972, 2973, 2974, 2975, 2976, 2977, 2978,\n",
            "       2979, 2980, 2981, 2982, 2983, 2984, 2985, 2986, 2987, 2988, 2989,\n",
            "       2990, 2991, 2992, 2993, 2994, 2995, 2996, 2997, 2998, 2999, 3000,\n",
            "       3001, 3002, 3003, 3004, 3005, 3006, 3007, 3008, 3009, 3010, 3011,\n",
            "       3012, 3013, 3014, 3015, 3016, 3017, 3018, 3019, 3020, 3021, 3022,\n",
            "       3023, 3024, 3025, 3026, 3027, 3028, 3029, 3030, 3031, 3032, 3033,\n",
            "       3034, 3035, 3036, 3037, 3038, 3039, 3040, 3041, 3042, 3043, 3044,\n",
            "       3045, 3046, 3047, 3048, 3049, 3050, 3051, 3052, 3053, 3054, 3055,\n",
            "       3056, 3057, 3058, 3059, 3060, 3061, 3062, 3063, 3064, 3065, 3066,\n",
            "       3067, 3068, 3069, 3070, 3071, 3072, 3073, 3074, 3075, 3076, 3077,\n",
            "       3078, 3079, 3080, 3081, 3082, 3083, 3084, 3085, 3086, 3087, 3088,\n",
            "       3089, 3090, 3091, 3092, 3093, 3094]),)\n"
          ]
        }
      ]
    },
    {
      "cell_type": "code",
      "metadata": {
        "id": "wKvDWFN_mXM-"
      },
      "source": [
        "# data i is an anomaly if samples [(i - timesteps + 1) to (i)] are anomalies\n",
        "anomalous_data_indices = []\n",
        "for data_idx in range(TIME_STEPS - 1, len(df_test_value) - TIME_STEPS + 1):\n",
        "    if np.all(anomalies[data_idx - TIME_STEPS + 1 : data_idx]):\n",
        "        anomalous_data_indices.append(data_idx)"
      ],
      "execution_count": null,
      "outputs": []
    },
    {
      "cell_type": "code",
      "source": [
        "anomalous_data_indices # 데이터가 잘 쌓였는지 확인하는 코드이다!"
      ],
      "metadata": {
        "id": "FGB9IgN2HqNI"
      },
      "execution_count": null,
      "outputs": []
    },
    {
      "cell_type": "code",
      "metadata": {
        "colab": {
          "base_uri": "https://localhost:8080/",
          "height": 303
        },
        "id": "YKaTUinxmco3",
        "outputId": "0354ca5f-706f-4474-ec4d-e373a4c4aba2"
      },
      "source": [
        "df_subset = cpu_load_df.iloc[anomalous_data_indices]\n",
        "fig, ax = plt.subplots()\n",
        "cpu_load_df.plot(legend=False, ax=ax)\n",
        "df_subset.plot(legend=False, ax=ax, color=\"r\")\n",
        "plt.show()"
      ],
      "execution_count": null,
      "outputs": [
        {
          "output_type": "display_data",
          "data": {
            "text/plain": [
              "<Figure size 432x288 with 1 Axes>"
            ],
            "image/png": "[encoded data removed]"
          },
          "metadata": {
            "needs_background": "light"
          }
        }
      ]
    },
    {
      "cell_type": "code",
      "metadata": {
        "id": "s0JHU0CTmeFY"
      },
      "source": [
        ""
      ],
      "execution_count": null,
      "outputs": []
    },
    {
      "cell_type": "code",
      "metadata": {
        "id": "PvVQlpxRF7VF"
      },
      "source": [
        ""
      ],
      "execution_count": null,
      "outputs": []
    },
    {
      "cell_type": "code",
      "metadata": {
        "id": "UNwrll2HKtxF"
      },
      "source": [
        ""
      ],
      "execution_count": null,
      "outputs": []
    }
  ]
}