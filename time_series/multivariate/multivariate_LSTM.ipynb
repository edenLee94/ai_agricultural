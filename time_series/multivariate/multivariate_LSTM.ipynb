{
  "nbformat": 4,
  "nbformat_minor": 0,
  "metadata": {
    "colab": {
      "name": "multivariate_LSTM.ipynb",
      "provenance": [],
      "authorship_tag": "ABX9TyNN6BywgpODdQJTYet4wkF7"
    },
    "kernelspec": {
      "name": "python3",
      "display_name": "Python 3"
    },
    "language_info": {
      "name": "python"
    }
  },
  "cells": [
    {
      "cell_type": "code",
      "execution_count": null,
      "metadata": {
        "id": "j_FzQXV1EPsW"
      },
      "outputs": [],
      "source": [
        ""
      ]
    },
    {
      "cell_type": "code",
      "metadata": {
        "id": "IaddoCcDkM7Q"
      },
      "source": [
        "lstm_units = 200\n",
        "dense_units = 128"
      ],
      "execution_count": null,
      "outputs": []
    },
    {
      "cell_type": "code",
      "metadata": {
        "id": "CfmxkX2wkOkn",
        "colab": {
          "base_uri": "https://localhost:8080/"
        },
        "outputId": "16b0d03f-fd56-4861-e77c-9e2ddb7eb94a"
      },
      "source": [
        "rnn = Sequential([\n",
        "    LSTM(units=lstm_units,\n",
        "         dropout=.1,\n",
        "         recurrent_dropout=.1,\n",
        "         input_shape=(window_size, n_features),\n",
        "         return_sequences=False),\n",
        "    Dense(dense_units),\n",
        "    Dense(output_size)\n",
        "])"
      ],
      "execution_count": null,
      "outputs": [
        {
          "output_type": "stream",
          "name": "stdout",
          "text": [
            "WARNING:tensorflow:Layer lstm will not use cuDNN kernels since it doesn't meet the criteria. It will use a generic GPU kernel as fallback when running on GPU.\n"
          ]
        }
      ]
    },
    {
      "cell_type": "code",
      "metadata": {
        "colab": {
          "base_uri": "https://localhost:8080/"
        },
        "id": "3Fxm6xuTkQa4",
        "outputId": "c4bd0251-9f18-47cc-fadc-5773b5f40bf6"
      },
      "source": [
        "rnn.summary()"
      ],
      "execution_count": null,
      "outputs": [
        {
          "output_type": "stream",
          "name": "stdout",
          "text": [
            "Model: \"sequential\"\n",
            "_________________________________________________________________\n",
            " Layer (type)                Output Shape              Param #   \n",
            "=================================================================\n",
            " lstm (LSTM)                 (None, 200)               163200    \n",
            "                                                                 \n",
            " dense (Dense)               (None, 128)               25728     \n",
            "                                                                 \n",
            " dense_1 (Dense)             (None, 3)                 387       \n",
            "                                                                 \n",
            "=================================================================\n",
            "Total params: 189,315\n",
            "Trainable params: 189,315\n",
            "Non-trainable params: 0\n",
            "_________________________________________________________________\n"
          ]
        }
      ]
    },
    {
      "cell_type": "code",
      "metadata": {
        "id": "JidXSbXCkRrI"
      },
      "source": [
        "rnn.compile(loss='mse', optimizer='RMSProp')"
      ],
      "execution_count": null,
      "outputs": []
    },
    {
      "cell_type": "code",
      "metadata": {
        "id": "RSEElneekUJI"
      },
      "source": [
        "lstm_path = (results_path / 'lstm.h5').as_posix()\n",
        "\n",
        "checkpointer = ModelCheckpoint(filepath=lstm_path,\n",
        "                               verbose=1,\n",
        "                               monitor='val_loss',\n",
        "                               mode='min',\n",
        "                               save_best_only=True)"
      ],
      "execution_count": null,
      "outputs": []
    },
    {
      "cell_type": "code",
      "metadata": {
        "id": "gWBik00ckVpx"
      },
      "source": [
        "early_stopping = EarlyStopping(monitor='val_loss', \n",
        "                              patience=10,\n",
        "                              restore_best_weights=True)"
      ],
      "execution_count": null,
      "outputs": []
    },
    {
      "cell_type": "code",
      "metadata": {
        "colab": {
          "base_uri": "https://localhost:8080/"
        },
        "id": "z00JuuBSkWyY",
        "outputId": "df61b4fe-3bc4-4afc-ba55-165443315cc1"
      },
      "source": [
        "result = rnn.fit(X_train,\n",
        "                 y_train,\n",
        "                 epochs=100,\n",
        "                 batch_size=20,\n",
        "                 shuffle=False,\n",
        "                 validation_data=(X_test, y_test),\n",
        "                 callbacks=[early_stopping, checkpointer],\n",
        "                 verbose=1)"
      ],
      "execution_count": null,
      "outputs": [
        {
          "output_type": "stream",
          "name": "stdout",
          "text": [
            "Epoch 1/100\n",
            "13/14 [==========================>...] - ETA: 0s - loss: 0.0874\n",
            "Epoch 1: val_loss improved from inf to 0.00989, saving model to results/multivariate_time_series/lstm.h5\n",
            "14/14 [==============================] - 2s 59ms/step - loss: 0.0826 - val_loss: 0.0099\n",
            "Epoch 2/100\n",
            "13/14 [==========================>...] - ETA: 0s - loss: 0.0290\n",
            "Epoch 2: val_loss improved from 0.00989 to 0.00511, saving model to results/multivariate_time_series/lstm.h5\n",
            "14/14 [==============================] - 1s 38ms/step - loss: 0.0284 - val_loss: 0.0051\n",
            "Epoch 3/100\n",
            "13/14 [==========================>...] - ETA: 0s - loss: 0.0233\n",
            "Epoch 3: val_loss did not improve from 0.00511\n",
            "14/14 [==============================] - 0s 36ms/step - loss: 0.0230 - val_loss: 0.0052\n",
            "Epoch 4/100\n",
            "13/14 [==========================>...] - ETA: 0s - loss: 0.0232\n",
            "Epoch 4: val_loss improved from 0.00511 to 0.00379, saving model to results/multivariate_time_series/lstm.h5\n",
            "14/14 [==============================] - 1s 40ms/step - loss: 0.0235 - val_loss: 0.0038\n",
            "Epoch 5/100\n",
            "13/14 [==========================>...] - ETA: 0s - loss: 0.0192\n",
            "Epoch 5: val_loss did not improve from 0.00379\n",
            "14/14 [==============================] - 1s 37ms/step - loss: 0.0189 - val_loss: 0.0040\n",
            "Epoch 6/100\n",
            "13/14 [==========================>...] - ETA: 0s - loss: 0.0178\n",
            "Epoch 6: val_loss improved from 0.00379 to 0.00329, saving model to results/multivariate_time_series/lstm.h5\n",
            "14/14 [==============================] - 1s 37ms/step - loss: 0.0174 - val_loss: 0.0033\n",
            "Epoch 7/100\n",
            "13/14 [==========================>...] - ETA: 0s - loss: 0.0175\n",
            "Epoch 7: val_loss did not improve from 0.00329\n",
            "14/14 [==============================] - 1s 37ms/step - loss: 0.0176 - val_loss: 0.0037\n",
            "Epoch 8/100\n",
            "13/14 [==========================>...] - ETA: 0s - loss: 0.0168\n",
            "Epoch 8: val_loss did not improve from 0.00329\n",
            "14/14 [==============================] - 0s 34ms/step - loss: 0.0166 - val_loss: 0.0036\n",
            "Epoch 9/100\n",
            "13/14 [==========================>...] - ETA: 0s - loss: 0.0162\n",
            "Epoch 9: val_loss did not improve from 0.00329\n",
            "14/14 [==============================] - 0s 35ms/step - loss: 0.0168 - val_loss: 0.0063\n",
            "Epoch 10/100\n",
            "14/14 [==============================] - ETA: 0s - loss: 0.0184\n",
            "Epoch 10: val_loss improved from 0.00329 to 0.00277, saving model to results/multivariate_time_series/lstm.h5\n",
            "14/14 [==============================] - 1s 41ms/step - loss: 0.0184 - val_loss: 0.0028\n",
            "Epoch 11/100\n",
            "13/14 [==========================>...] - ETA: 0s - loss: 0.0146\n",
            "Epoch 11: val_loss did not improve from 0.00277\n",
            "14/14 [==============================] - 1s 39ms/step - loss: 0.0142 - val_loss: 0.0034\n",
            "Epoch 12/100\n",
            "13/14 [==========================>...] - ETA: 0s - loss: 0.0158\n",
            "Epoch 12: val_loss improved from 0.00277 to 0.00252, saving model to results/multivariate_time_series/lstm.h5\n",
            "14/14 [==============================] - 1s 38ms/step - loss: 0.0154 - val_loss: 0.0025\n",
            "Epoch 13/100\n",
            "13/14 [==========================>...] - ETA: 0s - loss: 0.0159\n",
            "Epoch 13: val_loss did not improve from 0.00252\n",
            "14/14 [==============================] - 1s 37ms/step - loss: 0.0153 - val_loss: 0.0033\n",
            "Epoch 14/100\n",
            "13/14 [==========================>...] - ETA: 0s - loss: 0.0156\n",
            "Epoch 14: val_loss did not improve from 0.00252\n",
            "14/14 [==============================] - 1s 36ms/step - loss: 0.0152 - val_loss: 0.0035\n",
            "Epoch 15/100\n",
            "13/14 [==========================>...] - ETA: 0s - loss: 0.0155\n",
            "Epoch 15: val_loss did not improve from 0.00252\n",
            "14/14 [==============================] - 1s 36ms/step - loss: 0.0150 - val_loss: 0.0031\n",
            "Epoch 16/100\n",
            "13/14 [==========================>...] - ETA: 0s - loss: 0.0131\n",
            "Epoch 16: val_loss did not improve from 0.00252\n",
            "14/14 [==============================] - 0s 35ms/step - loss: 0.0131 - val_loss: 0.0037\n",
            "Epoch 17/100\n",
            "13/14 [==========================>...] - ETA: 0s - loss: 0.0134\n",
            "Epoch 17: val_loss did not improve from 0.00252\n",
            "14/14 [==============================] - 1s 36ms/step - loss: 0.0139 - val_loss: 0.0042\n",
            "Epoch 18/100\n",
            "13/14 [==========================>...] - ETA: 0s - loss: 0.0153\n",
            "Epoch 18: val_loss improved from 0.00252 to 0.00230, saving model to results/multivariate_time_series/lstm.h5\n",
            "14/14 [==============================] - 1s 37ms/step - loss: 0.0149 - val_loss: 0.0023\n",
            "Epoch 19/100\n",
            "13/14 [==========================>...] - ETA: 0s - loss: 0.0132\n",
            "Epoch 19: val_loss did not improve from 0.00230\n",
            "14/14 [==============================] - 1s 36ms/step - loss: 0.0132 - val_loss: 0.0030\n",
            "Epoch 20/100\n",
            "13/14 [==========================>...] - ETA: 0s - loss: 0.0141\n",
            "Epoch 20: val_loss did not improve from 0.00230\n",
            "14/14 [==============================] - 1s 39ms/step - loss: 0.0136 - val_loss: 0.0028\n",
            "Epoch 21/100\n",
            "13/14 [==========================>...] - ETA: 0s - loss: 0.0128\n",
            "Epoch 21: val_loss did not improve from 0.00230\n",
            "14/14 [==============================] - 1s 36ms/step - loss: 0.0127 - val_loss: 0.0030\n",
            "Epoch 22/100\n",
            "13/14 [==========================>...] - ETA: 0s - loss: 0.0136\n",
            "Epoch 22: val_loss did not improve from 0.00230\n",
            "14/14 [==============================] - 0s 35ms/step - loss: 0.0134 - val_loss: 0.0033\n",
            "Epoch 23/100\n",
            "13/14 [==========================>...] - ETA: 0s - loss: 0.0135\n",
            "Epoch 23: val_loss did not improve from 0.00230\n",
            "14/14 [==============================] - 1s 37ms/step - loss: 0.0133 - val_loss: 0.0040\n",
            "Epoch 24/100\n",
            "13/14 [==========================>...] - ETA: 0s - loss: 0.0136\n",
            "Epoch 24: val_loss did not improve from 0.00230\n",
            "14/14 [==============================] - 1s 37ms/step - loss: 0.0132 - val_loss: 0.0056\n",
            "Epoch 25/100\n",
            "13/14 [==========================>...] - ETA: 0s - loss: 0.0124\n",
            "Epoch 25: val_loss did not improve from 0.00230\n",
            "14/14 [==============================] - 1s 36ms/step - loss: 0.0125 - val_loss: 0.0041\n",
            "Epoch 26/100\n",
            "13/14 [==========================>...] - ETA: 0s - loss: 0.0138\n",
            "Epoch 26: val_loss did not improve from 0.00230\n",
            "14/14 [==============================] - 0s 36ms/step - loss: 0.0133 - val_loss: 0.0030\n",
            "Epoch 27/100\n",
            "13/14 [==========================>...] - ETA: 0s - loss: 0.0124\n",
            "Epoch 27: val_loss did not improve from 0.00230\n",
            "14/14 [==============================] - 1s 38ms/step - loss: 0.0122 - val_loss: 0.0038\n",
            "Epoch 28/100\n",
            "13/14 [==========================>...] - ETA: 0s - loss: 0.0133\n",
            "Epoch 28: val_loss did not improve from 0.00230\n",
            "14/14 [==============================] - 1s 37ms/step - loss: 0.0131 - val_loss: 0.0040\n"
          ]
        }
      ]
    }
  ]
}